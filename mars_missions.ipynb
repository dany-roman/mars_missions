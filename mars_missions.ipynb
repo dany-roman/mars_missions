{
 "cells": [
  {
   "cell_type": "code",
   "execution_count": 248,
   "id": "47f6e3ad",
   "metadata": {},
   "outputs": [],
   "source": [
    "# dependencies\n",
    "from bs4 import BeautifulSoup as bs\n",
    "import requests\n",
    "import pymongo\n",
    "import pandas as pd\n",
    "from splinter import Browser\n",
    "from webdriver_manager.chrome import ChromeDriverManager\n",
    "from pprint import pprint"
   ]
  },
  {
   "cell_type": "code",
   "execution_count": 235,
   "id": "0e0d47d8",
   "metadata": {},
   "outputs": [
    {
     "name": "stderr",
     "output_type": "stream",
     "text": [
      "\n",
      "\n",
      "====== WebDriver manager ======\n",
      "Current google-chrome version is 91.0.4472\n",
      "Get LATEST driver version for 91.0.4472\n",
      "Driver [C:\\Users\\Doc\\.wdm\\drivers\\chromedriver\\win32\\91.0.4472.101\\chromedriver.exe] found in cache\n"
     ]
    }
   ],
   "source": [
    "path = {'executable_path': ChromeDriverManager().install()}\n",
    "browser = Browser('chrome',**path, headless=False)"
   ]
  },
  {
   "cell_type": "code",
   "execution_count": 236,
   "id": "14673995",
   "metadata": {},
   "outputs": [],
   "source": [
    "# url of target website\n",
    "url = 'https://redplanetscience.com/'"
   ]
  },
  {
   "cell_type": "code",
   "execution_count": 237,
   "id": "6b7034bf",
   "metadata": {},
   "outputs": [],
   "source": [
    "# retrieve page \n",
    "browser.visit(url)"
   ]
  },
  {
   "cell_type": "code",
   "execution_count": 238,
   "id": "8159f781",
   "metadata": {},
   "outputs": [],
   "source": [
    "# create soup object and parse with html.parser\n",
    "html = browser.html\n",
    "soup = bs(html, 'html.parser')"
   ]
  },
  {
   "cell_type": "code",
   "execution_count": 239,
   "id": "94d622f2",
   "metadata": {},
   "outputs": [
    {
     "name": "stdout",
     "output_type": "stream",
     "text": [
      "News Title: NASA's Mars 2020 Will Hunt for Microscopic Fossils\n",
      "Description: A new paper identifies a ring of minerals at the rover's landing site that are ideal for fossilizing microbial life.\n"
     ]
    }
   ],
   "source": [
    "news_article = soup.body.find_all('div', class_='content_title')[0]\n",
    "news_article = news_article.text\n",
    "news_description = soup.body.find_all('div', class_='article_teaser_body')[0]\n",
    "news_description = news_description.text\n",
    "\n",
    "print(f\"News Title: {news_article}\")\n",
    "print(f\"Description: {news_description}\")"
   ]
  },
  {
   "cell_type": "code",
   "execution_count": 240,
   "id": "30c8d834",
   "metadata": {},
   "outputs": [
    {
     "data": {
      "text/plain": [
       "'https://spaceimages-mars.com/image/featured/mars1.jpg'"
      ]
     },
     "execution_count": 240,
     "metadata": {},
     "output_type": "execute_result"
    }
   ],
   "source": [
    "url = 'https://spaceimages-mars.com/'\n",
    "browser.visit(url)\n",
    "browser.links.find_by_partial_text('FULL IMAGE').click()\n",
    "\n",
    "soup = bs(browser.html,'html.parser')\n",
    "featured_image_link = soup.find('img', class_='fancybox-image')['src']\n",
    "featured_image_link = url + featured_image_link\n",
    "featured_image_link"
   ]
  },
  {
   "cell_type": "code",
   "execution_count": 249,
   "id": "c96f105f",
   "metadata": {},
   "outputs": [
    {
     "name": "stdout",
     "output_type": "stream",
     "text": [
      "('<table border=\"1\" class=\"dataframe\">\\n'\n",
      " '  <thead>\\n'\n",
      " '    <tr style=\"text-align: right;\">\\n'\n",
      " '      <th></th>\\n'\n",
      " '      <th>0</th>\\n'\n",
      " '      <th>1</th>\\n'\n",
      " '    </tr>\\n'\n",
      " '  </thead>\\n'\n",
      " '  <tbody>\\n'\n",
      " '    <tr>\\n'\n",
      " '      <th>0</th>\\n'\n",
      " '      <td>Equatorial Diameter:</td>\\n'\n",
      " '      <td>6,792 km</td>\\n'\n",
      " '    </tr>\\n'\n",
      " '    <tr>\\n'\n",
      " '      <th>1</th>\\n'\n",
      " '      <td>Polar Diameter:</td>\\n'\n",
      " '      <td>6,752 km</td>\\n'\n",
      " '    </tr>\\n'\n",
      " '    <tr>\\n'\n",
      " '      <th>2</th>\\n'\n",
      " '      <td>Mass:</td>\\n'\n",
      " '      <td>6.39 × 10^23 kg (0.11 Earths)</td>\\n'\n",
      " '    </tr>\\n'\n",
      " '    <tr>\\n'\n",
      " '      <th>3</th>\\n'\n",
      " '      <td>Moons:</td>\\n'\n",
      " '      <td>2 ( Phobos &amp; Deimos )</td>\\n'\n",
      " '    </tr>\\n'\n",
      " '    <tr>\\n'\n",
      " '      <th>4</th>\\n'\n",
      " '      <td>Orbit Distance:</td>\\n'\n",
      " '      <td>227,943,824 km (1.38 AU)</td>\\n'\n",
      " '    </tr>\\n'\n",
      " '    <tr>\\n'\n",
      " '      <th>5</th>\\n'\n",
      " '      <td>Orbit Period:</td>\\n'\n",
      " '      <td>687 days (1.9 years)</td>\\n'\n",
      " '    </tr>\\n'\n",
      " '    <tr>\\n'\n",
      " '      <th>6</th>\\n'\n",
      " '      <td>Surface Temperature:</td>\\n'\n",
      " '      <td>-87 to -5 °C</td>\\n'\n",
      " '    </tr>\\n'\n",
      " '    <tr>\\n'\n",
      " '      <th>7</th>\\n'\n",
      " '      <td>First Record:</td>\\n'\n",
      " '      <td>2nd millennium BC</td>\\n'\n",
      " '    </tr>\\n'\n",
      " '    <tr>\\n'\n",
      " '      <th>8</th>\\n'\n",
      " '      <td>Recorded By:</td>\\n'\n",
      " '      <td>Egyptian astronomers</td>\\n'\n",
      " '    </tr>\\n'\n",
      " '  </tbody>\\n'\n",
      " '</table>')\n"
     ]
    }
   ],
   "source": [
    "url = 'https://galaxyfacts-mars.com/'\n",
    "browser.visit(url)\n",
    "\n",
    "tables = pd.read_html(url)\n",
    "table = tables[1]\n",
    "html_table = df.to_html()\n",
    "html_table.replace('\\n','')\n",
    "pprint(html_table)"
   ]
  },
  {
   "cell_type": "code",
   "execution_count": null,
   "id": "ea0012a9",
   "metadata": {},
   "outputs": [],
   "source": []
  },
  {
   "cell_type": "code",
   "execution_count": null,
   "id": "92f73fc1",
   "metadata": {},
   "outputs": [],
   "source": []
  },
  {
   "cell_type": "code",
   "execution_count": null,
   "id": "facc5f35",
   "metadata": {},
   "outputs": [],
   "source": []
  },
  {
   "cell_type": "code",
   "execution_count": null,
   "id": "b392e19b",
   "metadata": {},
   "outputs": [],
   "source": []
  },
  {
   "cell_type": "code",
   "execution_count": null,
   "id": "72c30af1",
   "metadata": {},
   "outputs": [],
   "source": []
  },
  {
   "cell_type": "code",
   "execution_count": 242,
   "id": "190495c0",
   "metadata": {},
   "outputs": [],
   "source": [
    "# url = 'https://marshemispheres.com/'\n",
    "# browser.visit(url)\n",
    "# soup = bs(browser.html, 'html.parser')\n",
    "# link = soup.find_all('a','itemLink')[0]['href']\n",
    "# url_lookup = url + link\n",
    "# browser.visit(url_lookup)\n",
    "# soup = bs(browser.html, 'html.parser')\n",
    "# hrefs = soup.find_all('li')\n",
    "# hrefs.find_all('href')\n",
    "\n",
    "\n",
    "\n",
    "# # for link in links:\n",
    "# #     browser.click_link_by_href().click()\n",
    "# #     soup = bs(browser.html, 'html.parser')\n",
    "    \n",
    "    \n",
    "# #     browser.click_link_by_href('img',class_='thumb').click()\n",
    "    \n",
    "# #     soup = bs(browser.html, 'html.parser')\n",
    "# #     print(soup.find_all('a',target_='_blank')['href'])\n",
    "    "
   ]
  },
  {
   "cell_type": "code",
   "execution_count": null,
   "id": "6854e04d",
   "metadata": {},
   "outputs": [],
   "source": []
  },
  {
   "cell_type": "code",
   "execution_count": null,
   "id": "69e904d4",
   "metadata": {},
   "outputs": [],
   "source": []
  },
  {
   "cell_type": "code",
   "execution_count": null,
   "id": "dc3de776",
   "metadata": {},
   "outputs": [],
   "source": []
  },
  {
   "cell_type": "code",
   "execution_count": null,
   "id": "1d4e7312",
   "metadata": {},
   "outputs": [],
   "source": []
  },
  {
   "cell_type": "code",
   "execution_count": null,
   "id": "92a4b189",
   "metadata": {},
   "outputs": [],
   "source": []
  },
  {
   "cell_type": "code",
   "execution_count": null,
   "id": "f8da4d40",
   "metadata": {},
   "outputs": [],
   "source": []
  }
 ],
 "metadata": {
  "kernelspec": {
   "display_name": "Python [conda env:root] *",
   "language": "python",
   "name": "conda-root-py"
  },
  "language_info": {
   "codemirror_mode": {
    "name": "ipython",
    "version": 3
   },
   "file_extension": ".py",
   "mimetype": "text/x-python",
   "name": "python",
   "nbconvert_exporter": "python",
   "pygments_lexer": "ipython3",
   "version": "3.8.8"
  }
 },
 "nbformat": 4,
 "nbformat_minor": 5
}
