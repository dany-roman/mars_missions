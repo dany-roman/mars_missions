{
 "cells": [
  {
   "cell_type": "code",
   "execution_count": 46,
   "id": "47f6e3ad",
   "metadata": {},
   "outputs": [],
   "source": [
    "# dependencies\n",
    "from bs4 import BeautifulSoup as bs\n",
    "import requests\n",
    "import pymongo\n",
    "import pandas as pd\n",
    "from splinter import Browser\n",
    "from webdriver_manager.chrome import ChromeDriverManager\n",
    "from pprint import pprint"
   ]
  },
  {
   "cell_type": "code",
   "execution_count": 47,
   "id": "0e0d47d8",
   "metadata": {},
   "outputs": [
    {
     "name": "stderr",
     "output_type": "stream",
     "text": [
      "\n",
      "\n",
      "====== WebDriver manager ======\n",
      "Current google-chrome version is 91.0.4472\n",
      "Get LATEST driver version for 91.0.4472\n",
      "Driver [C:\\Users\\Doc\\.wdm\\drivers\\chromedriver\\win32\\91.0.4472.101\\chromedriver.exe] found in cache\n"
     ]
    }
   ],
   "source": [
    "path = {'executable_path': ChromeDriverManager().install()}\n",
    "browser = Browser('chrome',**path, headless=False)"
   ]
  },
  {
   "cell_type": "code",
   "execution_count": 48,
   "id": "14673995",
   "metadata": {},
   "outputs": [],
   "source": [
    "# url of target website\n",
    "url = 'https://redplanetscience.com/'"
   ]
  },
  {
   "cell_type": "code",
   "execution_count": 49,
   "id": "6b7034bf",
   "metadata": {},
   "outputs": [],
   "source": [
    "# retrieve page \n",
    "browser.visit(url)"
   ]
  },
  {
   "cell_type": "code",
   "execution_count": 50,
   "id": "8159f781",
   "metadata": {},
   "outputs": [],
   "source": [
    "# create soup object and parse with html.parser\n",
    "html = browser.html\n",
    "soup = bs(html, 'html.parser')"
   ]
  },
  {
   "cell_type": "code",
   "execution_count": 51,
   "id": "94d622f2",
   "metadata": {},
   "outputs": [
    {
     "name": "stdout",
     "output_type": "stream",
     "text": [
      "News Title: Mars Is Getting a New Robotic Meteorologist\n",
      "Description: Sensors on NASA's Perseverance will help prepare for future human exploration by taking weather measurements and studying dust particles.\n"
     ]
    }
   ],
   "source": [
    "news_article = soup.body.find_all('div', class_='content_title')[0]\n",
    "news_article = news_article.text\n",
    "news_description = soup.body.find_all('div', class_='article_teaser_body')[0]\n",
    "news_description = news_description.text\n",
    "\n",
    "print(f\"News Title: {news_article}\")\n",
    "print(f\"Description: {news_description}\")"
   ]
  },
  {
   "cell_type": "code",
   "execution_count": 52,
   "id": "30c8d834",
   "metadata": {},
   "outputs": [
    {
     "data": {
      "text/plain": [
       "'https://spaceimages-mars.com/image/featured/mars3.jpg'"
      ]
     },
     "execution_count": 52,
     "metadata": {},
     "output_type": "execute_result"
    }
   ],
   "source": [
    "url = 'https://spaceimages-mars.com/'\n",
    "browser.visit(url)\n",
    "browser.links.find_by_partial_text('FULL IMAGE').click()\n",
    "\n",
    "soup = bs(browser.html,'html.parser')\n",
    "featured_image_link = soup.find('img', class_='fancybox-image')['src']\n",
    "featured_image_link = url + featured_image_link\n",
    "featured_image_link"
   ]
  },
  {
   "cell_type": "code",
   "execution_count": 53,
   "id": "c96f105f",
   "metadata": {},
   "outputs": [],
   "source": [
    "url = 'https://galaxyfacts-mars.com/'\n",
    "browser.visit(url)\n",
    "\n",
    "tables = pd.read_html(url)\n",
    "table = tables[1]\n",
    "html_table = table.to_html()\n",
    "html_table.replace('\\n','')\n",
    "table.to_html('table.html', index=False,header=False)"
   ]
  },
  {
   "cell_type": "code",
   "execution_count": 54,
   "id": "ea0012a9",
   "metadata": {},
   "outputs": [
    {
     "data": {
      "text/plain": [
       "[{'title': 'Cerberus Hemisphere Enhanced',\n",
       "  'image_url': 'https://marshemispheres.com/images/cerberus_enhanced.tif'},\n",
       " {'title': 'Schiaparelli Hemisphere Enhanced',\n",
       "  'image_url': 'https://marshemispheres.com/images/schiaparelli_enhanced.tif'},\n",
       " {'title': 'Syrtis Major Hemisphere Enhanced',\n",
       "  'image_url': 'https://marshemispheres.com/images/syrtis_major_enhanced.tif'},\n",
       " {'title': 'Valles Marineris Hemisphere Enhanced',\n",
       "  'image_url': 'https://marshemispheres.com/images/valles_marineris_enhanced.tif'}]"
      ]
     },
     "execution_count": 54,
     "metadata": {},
     "output_type": "execute_result"
    }
   ],
   "source": [
    "hemisphere_image_urls = []\n",
    "\n",
    "url = 'https://marshemispheres.com/'\n",
    "browser.visit(url)\n",
    "soup = bs(browser.html, 'html.parser')\n",
    "block = soup.find_all('div',class_='description')\n",
    "\n",
    "for x in block:\n",
    "    body = x\n",
    "    header = body.find('h3').text\n",
    "    link = body.find('a', href=True)['href']\n",
    "    url_lookup = url + link\n",
    "\n",
    "    browser.visit(url_lookup)\n",
    "    soup = bs(browser.html, 'html.parser')\n",
    "    image = soup.find_all('li')[1]\n",
    "    image = image.find('a',href=True)['href']\n",
    "    image_url = url + image\n",
    "    header_image = {\"title\": header, 'image_url': image_url}\n",
    "    hemisphere_image_urls.append(header_image)\n",
    "    browser.links.find_by_partial_text('Back').click()\n",
    "\n",
    "hemisphere_image_urls"
   ]
  },
  {
   "cell_type": "code",
   "execution_count": 55,
   "id": "92f73fc1",
   "metadata": {},
   "outputs": [],
   "source": [
    "browser.quit()"
   ]
  },
  {
   "cell_type": "code",
   "execution_count": null,
   "id": "facc5f35",
   "metadata": {},
   "outputs": [],
   "source": []
  },
  {
   "cell_type": "code",
   "execution_count": null,
   "id": "b392e19b",
   "metadata": {},
   "outputs": [],
   "source": []
  },
  {
   "cell_type": "code",
   "execution_count": null,
   "id": "72c30af1",
   "metadata": {},
   "outputs": [],
   "source": []
  },
  {
   "cell_type": "code",
   "execution_count": null,
   "id": "190495c0",
   "metadata": {},
   "outputs": [],
   "source": [
    "\n",
    "    "
   ]
  },
  {
   "cell_type": "code",
   "execution_count": null,
   "id": "6854e04d",
   "metadata": {},
   "outputs": [],
   "source": []
  },
  {
   "cell_type": "code",
   "execution_count": null,
   "id": "69e904d4",
   "metadata": {},
   "outputs": [],
   "source": []
  },
  {
   "cell_type": "code",
   "execution_count": null,
   "id": "dc3de776",
   "metadata": {},
   "outputs": [],
   "source": []
  },
  {
   "cell_type": "code",
   "execution_count": null,
   "id": "1d4e7312",
   "metadata": {},
   "outputs": [],
   "source": []
  },
  {
   "cell_type": "code",
   "execution_count": null,
   "id": "92a4b189",
   "metadata": {},
   "outputs": [],
   "source": []
  },
  {
   "cell_type": "code",
   "execution_count": null,
   "id": "f8da4d40",
   "metadata": {},
   "outputs": [],
   "source": []
  }
 ],
 "metadata": {
  "kernelspec": {
   "display_name": "Python [conda env:root] *",
   "language": "python",
   "name": "conda-root-py"
  },
  "language_info": {
   "codemirror_mode": {
    "name": "ipython",
    "version": 3
   },
   "file_extension": ".py",
   "mimetype": "text/x-python",
   "name": "python",
   "nbconvert_exporter": "python",
   "pygments_lexer": "ipython3",
   "version": "3.8.8"
  }
 },
 "nbformat": 4,
 "nbformat_minor": 5
}
