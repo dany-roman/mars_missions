{
 "cells": [
  {
   "cell_type": "code",
   "execution_count": 56,
   "id": "47f6e3ad",
   "metadata": {},
   "outputs": [],
   "source": [
    "# dependencies\n",
    "from bs4 import BeautifulSoup as bs\n",
    "import requests\n",
    "import pymongo\n",
    "import pandas as pd\n",
    "from splinter import Browser\n",
    "from webdriver_manager.chrome import ChromeDriverManager\n",
    "from pprint import pprint"
   ]
  },
  {
   "cell_type": "code",
   "execution_count": 57,
   "id": "0e0d47d8",
   "metadata": {},
   "outputs": [
    {
     "name": "stderr",
     "output_type": "stream",
     "text": [
      "\n",
      "\n",
      "====== WebDriver manager ======\n",
      "Current google-chrome version is 91.0.4472\n",
      "Get LATEST driver version for 91.0.4472\n",
      "Driver [C:\\Users\\Doc\\.wdm\\drivers\\chromedriver\\win32\\91.0.4472.101\\chromedriver.exe] found in cache\n"
     ]
    }
   ],
   "source": [
    "path = {'executable_path': ChromeDriverManager().install()}\n",
    "browser = Browser('chrome',**path, headless=False)"
   ]
  },
  {
   "cell_type": "code",
   "execution_count": 58,
   "id": "14673995",
   "metadata": {},
   "outputs": [],
   "source": [
    "# url of target website\n",
    "url = 'https://redplanetscience.com/'"
   ]
  },
  {
   "cell_type": "code",
   "execution_count": 59,
   "id": "6b7034bf",
   "metadata": {},
   "outputs": [],
   "source": [
    "# retrieve page \n",
    "browser.visit(url)"
   ]
  },
  {
   "cell_type": "code",
   "execution_count": 60,
   "id": "8159f781",
   "metadata": {},
   "outputs": [],
   "source": [
    "# create soup object and parse with html.parser\n",
    "html = browser.html\n",
    "soup = bs(html, 'html.parser')"
   ]
  },
  {
   "cell_type": "code",
   "execution_count": 61,
   "id": "94d622f2",
   "metadata": {},
   "outputs": [],
   "source": [
    "# collect latest news title and description\n",
    "news_article = soup.body.find_all('div', class_='content_title')[0]\n",
    "news_article = news_article.text\n",
    "news_description = soup.body.find_all('div', class_='article_teaser_body')[0]\n",
    "news_description = news_description.text\n",
    "\n",
    "# print(f\"News Title: {news_article}\")\n",
    "# print(f\"Description: {news_description}\")"
   ]
  },
  {
   "cell_type": "code",
   "execution_count": 62,
   "id": "30c8d834",
   "metadata": {},
   "outputs": [],
   "source": [
    "# go to spaceimages website, go to featured image\n",
    "url = 'https://spaceimages-mars.com/'\n",
    "browser.visit(url)\n",
    "browser.links.find_by_partial_text('FULL IMAGE').click()\n",
    "\n",
    "# collect featured image link\n",
    "soup = bs(browser.html,'html.parser')\n",
    "featured_image_link = soup.find('img', class_='fancybox-image')['src']\n",
    "featured_image_link = url + featured_image_link\n",
    "# featured_image_link"
   ]
  },
  {
   "cell_type": "code",
   "execution_count": 63,
   "id": "c96f105f",
   "metadata": {},
   "outputs": [],
   "source": [
    "# go to mars facts website\n",
    "url = 'https://galaxyfacts-mars.com/'\n",
    "browser.visit(url)\n",
    "\n",
    "# collect table data and export as an html\n",
    "tables = pd.read_html(url)\n",
    "table = tables[1]\n",
    "table.columns = ['Description', 'Values']\n",
    "table = table.reset_index(drop=True)\n",
    "html_table = table.to_html(index=False,header=False,justify='right',table_id='table-html-css',classes='table table-hover table-striped').replace('border=\"1\"','border=\"0\"')\n",
    "html_table = html_table.replace('\\n','')\n",
    "# table.to_html('table.html', index=False,header=False)"
   ]
  },
  {
   "cell_type": "code",
   "execution_count": 64,
   "id": "ea0012a9",
   "metadata": {},
   "outputs": [],
   "source": [
    "hemisphere_image_urls = []\n",
    "\n",
    "# go to mars hemisphere website and find the hemisphere sections\n",
    "url = 'https://marshemispheres.com/'\n",
    "browser.visit(url)\n",
    "soup = bs(browser.html, 'html.parser')\n",
    "block = soup.find_all('div',class_='description')\n",
    "\n",
    "# loop through each hemisphere section and collect description and image link\n",
    "for x in block:\n",
    "    body = x\n",
    "    header = body.find('h3').text\n",
    "    link = body.find('a', href=True)['href']\n",
    "    url_lookup = url + link\n",
    "\n",
    "    browser.visit(url_lookup)\n",
    "    soup = bs(browser.html, 'html.parser')\n",
    "    image = soup.find_all('li')[0]\n",
    "    image = image.find('a',href=True)['href']\n",
    "    image_url = url + image\n",
    "    header_image = {\"title\": header, 'image_url': image_url}\n",
    "    hemisphere_image_urls.append(header_image)\n",
    "    browser.links.find_by_partial_text('Back').click()\n",
    "    \n",
    "# hemisphere_image_urls"
   ]
  },
  {
   "cell_type": "code",
   "execution_count": 65,
   "id": "92f73fc1",
   "metadata": {},
   "outputs": [],
   "source": [
    "# quit the browser\n",
    "browser.quit()"
   ]
  },
  {
   "cell_type": "code",
   "execution_count": 66,
   "id": "1f454ad5",
   "metadata": {},
   "outputs": [
    {
     "data": {
      "text/plain": [
       "{'news_article': \"6 Things to Know About NASA's Ingenuity Mars Helicopter\",\n",
       " 'news_description': 'The first helicopter attempting to fly on another planet is a marvel of engineering. Get up to speed with these key facts about its plans.',\n",
       " 'featured_image': 'https://spaceimages-mars.com/image/featured/mars2.jpg',\n",
       " 'mars_table': '<table border=\"0\" class=\"dataframe\" id=\"table-html-css\">  <tbody>    <tr>      <td>Equatorial Diameter:</td>      <td>6,792 km</td>    </tr>    <tr>      <td>Polar Diameter:</td>      <td>6,752 km</td>    </tr>    <tr>      <td>Mass:</td>      <td>6.39 × 10^23 kg (0.11 Earths)</td>    </tr>    <tr>      <td>Moons:</td>      <td>2 ( Phobos &amp; Deimos )</td>    </tr>    <tr>      <td>Orbit Distance:</td>      <td>227,943,824 km (1.38 AU)</td>    </tr>    <tr>      <td>Orbit Period:</td>      <td>687 days (1.9 years)</td>    </tr>    <tr>      <td>Surface Temperature:</td>      <td>-87 to -5 °C</td>    </tr>    <tr>      <td>First Record:</td>      <td>2nd millennium BC</td>    </tr>    <tr>      <td>Recorded By:</td>      <td>Egyptian astronomers</td>    </tr>  </tbody></table>',\n",
       " 'hemisphere_images': [{'title': 'Cerberus Hemisphere Enhanced',\n",
       "   'image_url': 'https://marshemispheres.com/images/cerberus_enhanced.tif'},\n",
       "  {'title': 'Schiaparelli Hemisphere Enhanced',\n",
       "   'image_url': 'https://marshemispheres.com/images/schiaparelli_enhanced.tif'},\n",
       "  {'title': 'Syrtis Major Hemisphere Enhanced',\n",
       "   'image_url': 'https://marshemispheres.com/images/syrtis_major_enhanced.tif'},\n",
       "  {'title': 'Valles Marineris Hemisphere Enhanced',\n",
       "   'image_url': 'https://marshemispheres.com/images/valles_marineris_enhanced.tif'}]}"
      ]
     },
     "execution_count": 66,
     "metadata": {},
     "output_type": "execute_result"
    }
   ],
   "source": [
    "mars_data = {\n",
    "        \"news_article\": news_article,\n",
    "        \"news_description\": news_description,\n",
    "        \"featured_image\": featured_image_link,\n",
    "        \"mars_table\": html_table,\n",
    "        \"hemisphere_images\": hemisphere_image_urls \n",
    "    }\n",
    "mars_data"
   ]
  },
  {
   "cell_type": "code",
   "execution_count": null,
   "id": "64322bc6",
   "metadata": {},
   "outputs": [],
   "source": []
  },
  {
   "cell_type": "code",
   "execution_count": null,
   "id": "38667bfa",
   "metadata": {},
   "outputs": [],
   "source": []
  }
 ],
 "metadata": {
  "kernelspec": {
   "display_name": "Python [conda env:root] *",
   "language": "python",
   "name": "conda-root-py"
  },
  "language_info": {
   "codemirror_mode": {
    "name": "ipython",
    "version": 3
   },
   "file_extension": ".py",
   "mimetype": "text/x-python",
   "name": "python",
   "nbconvert_exporter": "python",
   "pygments_lexer": "ipython3",
   "version": "3.8.8"
  }
 },
 "nbformat": 4,
 "nbformat_minor": 5
}
